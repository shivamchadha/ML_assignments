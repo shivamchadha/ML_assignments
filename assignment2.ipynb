{
 "cells": [
  {
   "cell_type": "markdown",
   "metadata": {},
   "source": [
    "# Assignment 2\n",
    "Shivam Chadha  \n",
    "2019B4AA0704G"
   ]
  },
  {
   "cell_type": "code",
   "execution_count": 1,
   "metadata": {},
   "outputs": [],
   "source": [
    "import pandas as pd\n",
    "import numpy as np\n",
    "import matplotlib.pyplot as plt\n",
    "import sklearn\n",
    "from math import log,log2\n",
    "from sklearn.tree import DecisionTreeClassifier as dtc\n",
    "from sklearn.tree import plot_tree\n",
    "from sklearn.inspection import DecisionBoundaryDisplay\n",
    "from sklearn.model_selection import train_test_split\n",
    "from sklearn.model_selection import KFold\n",
    "from sklearn import datasets\n",
    "from sklearn.metrics import f1_score,accuracy_score,precision_score,recall_score,confusion_matrix"
   ]
  },
  {
   "cell_type": "markdown",
   "metadata": {},
   "source": [
    "# Question 1"
   ]
  },
  {
   "cell_type": "code",
   "execution_count": 2,
   "metadata": {},
   "outputs": [],
   "source": [
    "# making data \n",
    "# p.s ignore method\n",
    "\n",
    "list1 = [[i,j] for j in range(1,4 ) for i in range(1,3)]\n",
    "list2 = [[i,j] for j in range(1,5 ) for i in range(4,6)]\n",
    "features = list1+list2\n",
    "labels = [1 if i not in [8,9,12,13] else 0  for i in range(0,14)]\n",
    "labels= np.array(labels)\n",
    "feat = sorted(features,key=lambda x: x[0])\n",
    "\n",
    "feat = np.array(feat)"
   ]
  },
  {
   "cell_type": "markdown",
   "metadata": {},
   "source": [
    "feat = f1,f2  \n",
    "labels = class"
   ]
  },
  {
   "cell_type": "markdown",
   "metadata": {},
   "source": [
    "### Functions"
   ]
  },
  {
   "cell_type": "code",
   "execution_count": 3,
   "metadata": {},
   "outputs": [],
   "source": [
    "def shannon_entropy(labels):\n",
    "    tot = len(labels)   # total instances\n",
    "    p = labels.count(1)/tot # no. of 1 class\n",
    "    n = labels.count(0)/tot # no. of 0 class\n",
    "    \n",
    "    if p == 0 or n==0:\n",
    "        \n",
    "        return 0\n",
    "    \n",
    "    entropy = -(p)*log2(p) -(n)*log2(n) # formula to calculate\n",
    "    return entropy\n",
    "\n",
    "\n",
    "def gini_impurity(labels):\n",
    "    tot = len(labels)  # total\n",
    "    p = labels.count(1)/tot # no. of 1 class\n",
    "    n = labels.count(0)/tot  # no. of 0 class\n",
    "    impurity = 1 - p*p -n*n  # calc\n",
    "    return impurity\n",
    "\n"
   ]
  },
  {
   "cell_type": "markdown",
   "metadata": {},
   "source": [
    "Calculated"
   ]
  },
  {
   "cell_type": "code",
   "execution_count": 4,
   "metadata": {},
   "outputs": [
    {
     "name": "stdout",
     "output_type": "stream",
     "text": [
      "0.863120568566631\n",
      "0.40816326530612246\n"
     ]
    }
   ],
   "source": [
    "print(shannon_entropy(labels.tolist()))\n",
    "print(gini_impurity(labels.tolist()))"
   ]
  },
  {
   "cell_type": "markdown",
   "metadata": {},
   "source": [
    "### Hand Written"
   ]
  },
  {
   "cell_type": "markdown",
   "metadata": {},
   "source": [
    "Class - counts  \n",
    "1 - 10  \n",
    "0 - 4  \n",
    "Shannon Entropy = -(4/14) log2(4/14) - (10/14) log2(10/14)\n",
    "                = 0.863  \n",
    "\n",
    "Gini impurity   = 1 - (4/14)^2 -(10/14)^2\n",
    "                = 0.408"
   ]
  },
  {
   "cell_type": "code",
   "execution_count": 5,
   "metadata": {},
   "outputs": [
    {
     "name": "stdout",
     "output_type": "stream",
     "text": [
      "0.863120568566631\n",
      "0.40816326530612246\n"
     ]
    }
   ],
   "source": [
    "print(-(4/14)*log2(4/14) - (10/14)*log2(10/14))\n",
    "print(1 - (4/14)**2 -(10/14)**2)"
   ]
  },
  {
   "cell_type": "markdown",
   "metadata": {},
   "source": [
    "### Plot"
   ]
  },
  {
   "cell_type": "code",
   "execution_count": 6,
   "metadata": {},
   "outputs": [
    {
     "data": {
      "image/png": "[encoded data removed]",
      "text/plain": [
       "<Figure size 432x288 with 1 Axes>"
      ]
     },
     "metadata": {
      "needs_background": "light"
     },
     "output_type": "display_data"
    }
   ],
   "source": [
    "ind1 = [i for i, e in enumerate(labels) if e == 1]\n",
    "ind0 = [i for i, e in enumerate(labels) if e == 0]\n",
    "plt.scatter(feat[ind0,0],feat[ind0,1],marker='o',label = 'class 0');\n",
    "plt.scatter(feat[ind1,0],feat[ind1,1],marker='x',label = 'class 1');\n",
    "plt.legend(loc='upper left');\n",
    "plt.xticks(np.arange(1, 6));\n",
    "plt.yticks(np.arange(1, 6));\n",
    "plt.xlabel('f 1');\n",
    "plt.ylabel('f 2');"
   ]
  },
  {
   "cell_type": "markdown",
   "metadata": {},
   "source": [
    "Intuition:  \n",
    "Using ID3  \n",
    "f1<3 : 1  \n",
    "f1>3 -> f2>2 : 0"
   ]
  },
  {
   "cell_type": "code",
   "execution_count": 7,
   "metadata": {},
   "outputs": [
    {
     "data": {
      "image/png": "[encoded data removed]",
      "text/plain": [
       "<Figure size 432x288 with 1 Axes>"
      ]
     },
     "metadata": {
      "needs_background": "light"
     },
     "output_type": "display_data"
    }
   ],
   "source": [
    "x1, y1 = [3, 3], [3, 6]\n",
    "x2, y2 = [3, 6], [3, 3]\n",
    "plt.plot(x1, y1,'black');\n",
    "plt.plot( x2, y2,'black');\n",
    "plt.xticks(np.arange(1, 6));\n",
    "plt.yticks(np.arange(1, 6));\n",
    "plt.xlim(1,6);\n",
    "plt.ylim(1,6);\n",
    "plt.xlabel('f1');\n",
    "plt.ylabel('f2');"
   ]
  },
  {
   "cell_type": "markdown",
   "metadata": {},
   "source": [
    "For Discrete features\n",
    "\n",
    "Calculating head node from scratch"
   ]
  },
  {
   "cell_type": "code",
   "execution_count": 8,
   "metadata": {},
   "outputs": [],
   "source": [
    "hs = {}\n",
    "f_s = {}\n",
    "info_gain= []\n",
    "l = len(labels)\n",
    "h = shannon_entropy(labels.tolist())\n",
    "for f in feat.T:   # f1,f2  \n",
    "    sum = 0\n",
    "    for i in np.unique(f):   # each unique value of f1/f2\n",
    "        ind =  [j for j, e in enumerate(f) if e == i]\n",
    "        f_s[i] = len(ind)\n",
    "        hs[i] = shannon_entropy([labels[j] for j in ind]) # calculate the entropy\n",
    "        sum += hs[i]*f_s[i]/l  # calculate the enropy into sample size / total samples\n",
    "\n",
    "    info_gain.append(h- sum)\n",
    "\n"
   ]
  },
  {
   "cell_type": "code",
   "execution_count": 9,
   "metadata": {},
   "outputs": [
    {
     "data": {
      "text/plain": [
       "[0.2916919971380596, 0.5774062828523453]"
      ]
     },
     "execution_count": 9,
     "metadata": {},
     "output_type": "execute_result"
    }
   ],
   "source": [
    "info_gain  # info gain for f1 and f2"
   ]
  },
  {
   "cell_type": "code",
   "execution_count": 10,
   "metadata": {},
   "outputs": [
    {
     "data": {
      "text/plain": [
       "1"
      ]
     },
     "execution_count": 10,
     "metadata": {},
     "output_type": "execute_result"
    }
   ],
   "source": [
    "mx = max(info_gain)\n",
    "info_gain.index(max(info_gain))"
   ]
  },
  {
   "cell_type": "markdown",
   "metadata": {},
   "source": [
    "We chose f2 as head node  \n",
    "value counts"
   ]
  },
  {
   "cell_type": "code",
   "execution_count": 11,
   "metadata": {},
   "outputs": [
    {
     "name": "stdout",
     "output_type": "stream",
     "text": [
      "1\n",
      "0: 0 1: 4\n",
      "2\n",
      "0: 0 1: 4\n",
      "3\n",
      "0: 2 1: 2\n",
      "4\n",
      "0: 2 1: 0\n"
     ]
    }
   ],
   "source": [
    "for f in np.unique(feat.T[1]):   # f1,f2\n",
    "    ind = [j for j,e in enumerate(feat) if e[1]==f ]\n",
    "\n",
    "    print(f)\n",
    "    print('0:',np.count_nonzero(labels[ind]==0),'1:',np.count_nonzero(labels[ind]==1))"
   ]
  },
  {
   "cell_type": "markdown",
   "metadata": {},
   "source": [
    "f2 = 1, 2, and 4 are pure leaves   \n",
    "We'll look at 3 subtree"
   ]
  },
  {
   "cell_type": "code",
   "execution_count": 12,
   "metadata": {},
   "outputs": [],
   "source": [
    "# doing the same thing as for head node\n",
    "hs1 = {}\n",
    "f_s1 = {}\n",
    "# info_gain_l1 = []\n",
    "ind = np.where(feat[:,1]==3)\n",
    "f1  = feat[ind,0].squeeze()\n",
    "l1 = labels[ind] \n",
    "l = len(l1)\n",
    "h1 = shannon_entropy(l1.tolist())"
   ]
  },
  {
   "cell_type": "markdown",
   "metadata": {},
   "source": [
    "Counts in 3 subtree"
   ]
  },
  {
   "cell_type": "code",
   "execution_count": 13,
   "metadata": {},
   "outputs": [
    {
     "name": "stdout",
     "output_type": "stream",
     "text": [
      "1\n",
      "0: 0 1: 1\n",
      "2\n",
      "0: 0 1: 1\n",
      "4\n",
      "0: 1 1: 0\n",
      "5\n",
      "0: 1 1: 0\n"
     ]
    }
   ],
   "source": [
    "for f in np.unique(f1):   # f1,f2\n",
    "    ind = [j for j,e in enumerate(f1) if e ==f ]\n",
    "    print(f)\n",
    "    print('0:',np.count_nonzero(l1[ind]==0),'1:',np.count_nonzero(l1[ind]==1))\n"
   ]
  },
  {
   "cell_type": "markdown",
   "metadata": {},
   "source": [
    "Since the leaves are pure there we stop here  \n",
    "(for f2=3 and f1 = 1,2,4,5)"
   ]
  },
  {
   "cell_type": "code",
   "execution_count": 14,
   "metadata": {},
   "outputs": [],
   "source": [
    "\n",
    "for i in np.unique(f1):\n",
    "    sum = 0\n",
    "    ind = [j for j, e in enumerate(f1) if e == i]\n",
    "    f_s1[i] = len(ind) \n",
    "    hs1[i] = shannon_entropy([l1[j] for j in ind])\n",
    "    sum += hs1[i]*f_s1[i]/l\n",
    "\n",
    "ifg = h- sum\n"
   ]
  },
  {
   "cell_type": "markdown",
   "metadata": {},
   "source": [
    "info gain, total entropy"
   ]
  },
  {
   "cell_type": "code",
   "execution_count": 15,
   "metadata": {},
   "outputs": [
    {
     "data": {
      "text/plain": [
       "(0.863120568566631, 0.863120568566631)"
      ]
     },
     "execution_count": 15,
     "metadata": {},
     "output_type": "execute_result"
    }
   ],
   "source": [
    "ifg,h"
   ]
  },
  {
   "cell_type": "markdown",
   "metadata": {},
   "source": [
    "f1!=3 : class =1  \n",
    "f1=3 -> f2=2 : class = 0"
   ]
  },
  {
   "cell_type": "code",
   "execution_count": 16,
   "metadata": {},
   "outputs": [
    {
     "data": {
      "image/png": "[encoded data removed]",
      "text/plain": [
       "<Figure size 432x288 with 1 Axes>"
      ]
     },
     "metadata": {
      "needs_background": "light"
     },
     "output_type": "display_data"
    }
   ],
   "source": [
    "ind1 = [i for i, e in enumerate(labels) if e == 1]\n",
    "ind0 = [i for i, e in enumerate(labels) if e == 0]\n",
    "plt.scatter(feat[ind0,0],feat[ind0,1],marker='o',label = 'class 0');\n",
    "plt.scatter(feat[ind1,0],feat[ind1,1],marker='x',label = 'class 1');\n",
    "x1, y1 = [3, 3], [3, 6]\n",
    "x2, y2 = [3, 6], [3, 3]\n",
    "plt.plot(x1, y1,'black');\n",
    "plt.plot( x2, y2,'black');\n",
    "plt.legend(loc='upper left');\n",
    "plt.xticks(np.arange(1, 6));\n",
    "plt.yticks(np.arange(1, 6));\n",
    "plt.xlim(1,6);\n",
    "plt.ylim(1,6);\n",
    "plt.xlabel('f1');\n",
    "plt.ylabel('f2');"
   ]
  },
  {
   "cell_type": "markdown",
   "metadata": {},
   "source": [
    "### Inbuilt functions\n",
    "\n",
    "Sklearn decision tree"
   ]
  },
  {
   "cell_type": "code",
   "execution_count": 17,
   "metadata": {},
   "outputs": [
    {
     "data": {
      "image/png": "[encoded data removed]",
      "text/plain": [
       "<Figure size 432x288 with 1 Axes>"
      ]
     },
     "metadata": {
      "needs_background": "light"
     },
     "output_type": "display_data"
    }
   ],
   "source": [
    "model = dtc(criterion='entropy')\n",
    "model.fit(feat,labels)\n",
    "plot_tree(model);\n",
    " "
   ]
  },
  {
   "cell_type": "markdown",
   "metadata": {},
   "source": [
    "Plotting decision boundary using sklearn"
   ]
  },
  {
   "cell_type": "code",
   "execution_count": 18,
   "metadata": {},
   "outputs": [
    {
     "data": {
      "text/plain": [
       "<Figure size 432x288 with 0 Axes>"
      ]
     },
     "metadata": {},
     "output_type": "display_data"
    },
    {
     "data": {
      "image/png": "[encoded data removed]",
      "text/plain": [
       "<Figure size 432x288 with 1 Axes>"
      ]
     },
     "metadata": {
      "needs_background": "light"
     },
     "output_type": "display_data"
    }
   ],
   "source": [
    "\n",
    "\n",
    "plt.tight_layout(h_pad=0.5, w_pad=0.5, pad=2.5)\n",
    "DecisionBoundaryDisplay.from_estimator(\n",
    "    model,\n",
    "    feat,\n",
    "    cmap=plt.cm.RdYlBu,\n",
    "    response_method=\"predict\",\n",
    "    xlabel='f1',\n",
    "    ylabel='f2',\n",
    ");\n",
    "\n",
    "ind1 = [i for i, e in enumerate(labels) if e == 1]\n",
    "ind0 = [i for i, e in enumerate(labels) if e == 0]\n",
    "plt.scatter(feat[ind0,0],feat[ind0,1],marker='o',label = 'class 0');\n",
    "plt.scatter(feat[ind1,0],feat[ind1,1],marker='x',label = 'class 1');\n",
    "# Plot the training points\n",
    "\n",
    "\n",
    "plt.suptitle(\"Decision surface of decision trees\");\n",
    "plt.legend(loc='upper left');"
   ]
  },
  {
   "cell_type": "markdown",
   "metadata": {},
   "source": [
    "# Question 2"
   ]
  },
  {
   "cell_type": "code",
   "execution_count": 19,
   "metadata": {},
   "outputs": [],
   "source": [
    "# getting data\n",
    "iris = datasets.load_iris()\n",
    "X = iris.data  \n",
    "y = iris.target"
   ]
  },
  {
   "cell_type": "code",
   "execution_count": 20,
   "metadata": {},
   "outputs": [
    {
     "data": {
      "text/plain": [
       "array([[5.1, 3.5, 1.4, 0.2],\n",
       "       [4.9, 3. , 1.4, 0.2],\n",
       "       [4.7, 3.2, 1.3, 0.2],\n",
       "       [4.6, 3.1, 1.5, 0.2],\n",
       "       [5. , 3.6, 1.4, 0.2]])"
      ]
     },
     "execution_count": 20,
     "metadata": {},
     "output_type": "execute_result"
    }
   ],
   "source": [
    "X[:5]  # first five elements"
   ]
  },
  {
   "cell_type": "code",
   "execution_count": 21,
   "metadata": {},
   "outputs": [
    {
     "data": {
      "text/plain": [
       "array([0, 1, 2])"
      ]
     },
     "execution_count": 21,
     "metadata": {},
     "output_type": "execute_result"
    }
   ],
   "source": [
    "np.unique(y) # unique labels"
   ]
  },
  {
   "cell_type": "markdown",
   "metadata": {},
   "source": [
    "Iris dataset \n",
    "The dataset contains information about 3 related species of flowers from the iris genus. The species are Iris setosa, Iris virginica and Iris versicolor. It contains information of the physical features of the flower.  \n",
    "It is a small dataset containing 150 instances.\n",
    "Multiclass classification.\n",
    "\n",
    "It has 4 features and 3 labels\n",
    "\n",
    "The 4 features are\n",
    "* Sepal Length\n",
    "* Sepal Width\n",
    "* Petal Length \n",
    "* Petal Width.\n",
    "\n",
    "The 3 types of iris flowers are\n",
    "* Setosa\n",
    "* Versicolour\n",
    "* Virginica"
   ]
  },
  {
   "cell_type": "code",
   "execution_count": 22,
   "metadata": {},
   "outputs": [
    {
     "data": {
      "text/plain": [
       "['sepal length (cm)',\n",
       " 'sepal width (cm)',\n",
       " 'petal length (cm)',\n",
       " 'petal width (cm)']"
      ]
     },
     "execution_count": 22,
     "metadata": {},
     "output_type": "execute_result"
    }
   ],
   "source": [
    "iris.feature_names # features"
   ]
  },
  {
   "cell_type": "code",
   "execution_count": 23,
   "metadata": {},
   "outputs": [
    {
     "data": {
      "text/plain": [
       "array(['setosa', 'versicolor', 'virginica'], dtype='<U10')"
      ]
     },
     "execution_count": 23,
     "metadata": {},
     "output_type": "execute_result"
    }
   ],
   "source": [
    "iris.target_names # targets"
   ]
  },
  {
   "cell_type": "code",
   "execution_count": 24,
   "metadata": {},
   "outputs": [
    {
     "name": "stdout",
     "output_type": "stream",
     "text": [
      "setosa: 50\n",
      "versicolor: 50\n",
      "virginica: 50\n"
     ]
    }
   ],
   "source": [
    "print('setosa:',X[y==0].shape[0])\n",
    "print('versicolor:',X[y==1].shape[0])\n",
    "print('virginica:',X[y==2].shape[0])"
   ]
  },
  {
   "cell_type": "code",
   "execution_count": 25,
   "metadata": {},
   "outputs": [
    {
     "data": {
      "text/html": [
       "<div>\n",
       "<style scoped>\n",
       "    .dataframe tbody tr th:only-of-type {\n",
       "        vertical-align: middle;\n",
       "    }\n",
       "\n",
       "    .dataframe tbody tr th {\n",
       "        vertical-align: top;\n",
       "    }\n",
       "\n",
       "    .dataframe thead th {\n",
       "        text-align: right;\n",
       "    }\n",
       "</style>\n",
       "<table border=\"1\" class=\"dataframe\">\n",
       "  <thead>\n",
       "    <tr style=\"text-align: right;\">\n",
       "      <th></th>\n",
       "      <th>Iris_Species</th>\n",
       "      <th>Data_Instances</th>\n",
       "    </tr>\n",
       "  </thead>\n",
       "  <tbody>\n",
       "    <tr>\n",
       "      <th>0</th>\n",
       "      <td>setosa</td>\n",
       "      <td>50</td>\n",
       "    </tr>\n",
       "    <tr>\n",
       "      <th>1</th>\n",
       "      <td>versicolor</td>\n",
       "      <td>50</td>\n",
       "    </tr>\n",
       "    <tr>\n",
       "      <th>2</th>\n",
       "      <td>virginica</td>\n",
       "      <td>50</td>\n",
       "    </tr>\n",
       "  </tbody>\n",
       "</table>\n",
       "</div>"
      ],
      "text/plain": [
       "  Iris_Species  Data_Instances\n",
       "0       setosa              50\n",
       "1   versicolor              50\n",
       "2    virginica              50"
      ]
     },
     "execution_count": 25,
     "metadata": {},
     "output_type": "execute_result"
    }
   ],
   "source": [
    "df = pd.DataFrame(columns = ['Iris_Species','Data_Instances'])\n",
    "df.Iris_Species = iris.target_names\n",
    "df.Data_Instances = [50,50,50]\n",
    "df"
   ]
  },
  {
   "cell_type": "code",
   "execution_count": 26,
   "metadata": {},
   "outputs": [
    {
     "data": {
      "image/png": "[encoded data removed]",
      "text/plain": [
       "<Figure size 432x288 with 1 Axes>"
      ]
     },
     "metadata": {
      "needs_background": "light"
     },
     "output_type": "display_data"
    },
    {
     "data": {
      "image/png": "[encoded data removed]",
      "text/plain": [
       "<Figure size 432x288 with 1 Axes>"
      ]
     },
     "metadata": {
      "needs_background": "light"
     },
     "output_type": "display_data"
    }
   ],
   "source": [
    "plt.figure(1)\n",
    "plt.scatter(X[:, 0], X[:, 1], c=y,edgecolor=\"k\");\n",
    "plt.xlabel(\"Sepal length\");\n",
    "plt.ylabel(\"Sepal width\");\n",
    "\n",
    "plt.figure(2)\n",
    "plt.scatter(X[:, 2], X[:, 3], c=y, edgecolor=\"k\");\n",
    "plt.xlabel(\"Petal length\");\n",
    "plt.ylabel(\"Petal width\");"
   ]
  },
  {
   "cell_type": "code",
   "execution_count": 27,
   "metadata": {},
   "outputs": [],
   "source": [
    "X_train, X_test, y_train, y_test = train_test_split(X, y, test_size=0.2, random_state=42)"
   ]
  },
  {
   "cell_type": "code",
   "execution_count": 28,
   "metadata": {},
   "outputs": [
    {
     "name": "stdout",
     "output_type": "stream",
     "text": [
      "Train\n",
      "setosa: 40\n",
      "versicolor: 41\n",
      "virginica: 39\n",
      "Test\n",
      "setosa: 10\n",
      "versicolor: 9\n",
      "virginica: 11\n"
     ]
    }
   ],
   "source": [
    "print(\"Train\")\n",
    "print('setosa:',X_train[y_train==0].shape[0])\n",
    "print('versicolor:',X_train[y_train==1].shape[0])\n",
    "print('virginica:',X_train[y_train==2].shape[0])\n",
    "print(\"Test\")\n",
    "print('setosa:',X_test[y_test==0].shape[0])\n",
    "print('versicolor:',X_test[y_test==1].shape[0])\n",
    "print('virginica:',X_test[y_test==2].shape[0])"
   ]
  },
  {
   "cell_type": "code",
   "execution_count": 29,
   "metadata": {},
   "outputs": [
    {
     "data": {
      "text/html": [
       "<div>\n",
       "<style scoped>\n",
       "    .dataframe tbody tr th:only-of-type {\n",
       "        vertical-align: middle;\n",
       "    }\n",
       "\n",
       "    .dataframe tbody tr th {\n",
       "        vertical-align: top;\n",
       "    }\n",
       "\n",
       "    .dataframe thead th {\n",
       "        text-align: right;\n",
       "    }\n",
       "</style>\n",
       "<table border=\"1\" class=\"dataframe\">\n",
       "  <thead>\n",
       "    <tr style=\"text-align: right;\">\n",
       "      <th></th>\n",
       "      <th>Iris_Species</th>\n",
       "      <th>Train</th>\n",
       "      <th>Test</th>\n",
       "    </tr>\n",
       "  </thead>\n",
       "  <tbody>\n",
       "    <tr>\n",
       "      <th>0</th>\n",
       "      <td>setosa</td>\n",
       "      <td>40</td>\n",
       "      <td>10</td>\n",
       "    </tr>\n",
       "    <tr>\n",
       "      <th>1</th>\n",
       "      <td>versicolor</td>\n",
       "      <td>41</td>\n",
       "      <td>9</td>\n",
       "    </tr>\n",
       "    <tr>\n",
       "      <th>2</th>\n",
       "      <td>virginica</td>\n",
       "      <td>39</td>\n",
       "      <td>11</td>\n",
       "    </tr>\n",
       "  </tbody>\n",
       "</table>\n",
       "</div>"
      ],
      "text/plain": [
       "  Iris_Species  Train  Test\n",
       "0       setosa     40    10\n",
       "1   versicolor     41     9\n",
       "2    virginica     39    11"
      ]
     },
     "execution_count": 29,
     "metadata": {},
     "output_type": "execute_result"
    }
   ],
   "source": [
    "df1 = pd.DataFrame(columns = ['Iris_Species','Train','Test'])\n",
    "df1.Iris_Species = iris.target_names\n",
    "df1.Train = np.unique(y_train,return_counts=True)[1]\n",
    "df1.Test = np.unique(y_test,return_counts=True)[1]\n",
    "df1"
   ]
  },
  {
   "cell_type": "code",
   "execution_count": 30,
   "metadata": {},
   "outputs": [],
   "source": [
    "def knn(X_train,y_train,X_test,y_test,k):\n",
    "    \"\"\" knn fucntion\n",
    "    Input : Training data, Training labels, Testing data,Testing labels ,K (nearest neighbours)\n",
    "    Output : Predicition on test data\"\"\"\n",
    "    y_pred = []\n",
    "    for i in range(len(X_test)):  # for all points in test\n",
    "        t_x = X_test[i] # take point\n",
    "        t_y = y_test[i]\n",
    "        j=0\n",
    "        diff_arr = np.zeros(len(X_train))  # arr for differences\n",
    "        for tr_x in X_train:  # points in train\n",
    "            diff = np.sum((tr_x - t_x)**2)   # euclidian distance\n",
    "            diff_arr[j] = diff # store\n",
    "            j+=1\n",
    "        idx = np.argpartition(diff_arr, k)  # sort till k\n",
    "        idx = idx[:k]  # nearest k vals\n",
    "        sum_y = 0\n",
    "        for j in idx:\n",
    "            sum_y += y_train[j]  # sum of preditied labels\n",
    "        pred = round(sum_y/k) # chooses most occuring label, in case of equal values of labels chooses middle values\n",
    "        y_pred.append(pred)\n",
    "        \n",
    "    return y_pred"
   ]
  },
  {
   "cell_type": "code",
   "execution_count": 31,
   "metadata": {},
   "outputs": [],
   "source": [
    "kf = KFold(n_splits=3)  # setting fold to 3"
   ]
  },
  {
   "cell_type": "code",
   "execution_count": 32,
   "metadata": {},
   "outputs": [],
   "source": [
    "f1s = np.zeros([25,3])  # for storing macro f1-score \n",
    "for k in range(1,26): # diff values of k\n",
    "    i = 0\n",
    "    for train_index, test_index in kf.split(X_train):  # folds in k folds\n",
    "        \n",
    "        X_tr, X_ts = X_train[train_index], X_train[test_index]  # train test features\n",
    "        y_tr, y_ts = y_train[train_index], y_train[test_index]  # train test labels\n",
    "        \n",
    "        y_pred = knn(X_tr,y_tr,X_ts,y_ts,k)   # getinng predictions\n",
    "        f1s[k-1][i] = f1_score(y_ts,y_pred,average = 'macro')  # storing macro f1\n",
    "        i+=1  "
   ]
  },
  {
   "cell_type": "code",
   "execution_count": 33,
   "metadata": {},
   "outputs": [
    {
     "data": {
      "image/png": "[encoded data removed]",
      "text/plain": [
       "<Figure size 432x288 with 1 Axes>"
      ]
     },
     "metadata": {
      "needs_background": "light"
     },
     "output_type": "display_data"
    }
   ],
   "source": [
    "plt.plot(range(1,26),np.amax(f1s,1));\n",
    "plt.xlabel('K');\n",
    "plt.ylabel('Macro-F1 score');"
   ]
  },
  {
   "cell_type": "markdown",
   "metadata": {},
   "source": [
    "choosing k=10  \n",
    "On Test set"
   ]
  },
  {
   "cell_type": "code",
   "execution_count": 34,
   "metadata": {},
   "outputs": [],
   "source": [
    "y_pred = knn(X_train,y_train,X_test,y_test,10)"
   ]
  },
  {
   "cell_type": "markdown",
   "metadata": {},
   "source": [
    "Results on Test set"
   ]
  },
  {
   "cell_type": "code",
   "execution_count": 35,
   "metadata": {},
   "outputs": [
    {
     "name": "stdout",
     "output_type": "stream",
     "text": [
      "acc: 1.0\n",
      "recall: 1.0\n",
      "precision: 1.0\n",
      "f1-score: 1.0\n",
      "macro f1-score: 1.0\n"
     ]
    }
   ],
   "source": [
    "print(\"acc:\",accuracy_score(y_test,y_pred))\n",
    "print(\"recall:\",recall_score(y_test,y_pred,average='micro'))\n",
    "print(\"precision:\",precision_score(y_test,y_pred,average='micro'))\n",
    "print(\"f1-score:\",f1_score(y_test,y_pred,average='macro'))\n",
    "print(\"macro f1-score:\",f1_score(y_test,y_pred,average='macro'))"
   ]
  },
  {
   "cell_type": "markdown",
   "metadata": {},
   "source": [
    "Confusion matrix for test set"
   ]
  },
  {
   "cell_type": "code",
   "execution_count": 36,
   "metadata": {},
   "outputs": [
    {
     "data": {
      "text/plain": [
       "array([[10,  0,  0],\n",
       "       [ 0,  9,  0],\n",
       "       [ 0,  0, 11]], dtype=int64)"
      ]
     },
     "execution_count": 36,
     "metadata": {},
     "output_type": "execute_result"
    }
   ],
   "source": [
    "confusion_matrix(y_test,y_pred)"
   ]
  },
  {
   "cell_type": "markdown",
   "metadata": {},
   "source": [
    "Alternate for Question 1  \n",
    "Tree based appproach from https://github.com/random-forests/tutorials/blob/master/decision_tree.ipynb"
   ]
  },
  {
   "cell_type": "code",
   "execution_count": 37,
   "metadata": {},
   "outputs": [],
   "source": [
    "header = [\"f1\",\"f2\",\"target\"]"
   ]
  },
  {
   "cell_type": "code",
   "execution_count": 38,
   "metadata": {},
   "outputs": [],
   "source": [
    "from __future__ import print_function\n",
    "\n",
    "def unique_vals(rows, col):\n",
    "    \"\"\"Find the unique values for a column in a dataset.\"\"\"\n",
    "    return set([row[col] for row in rows])\n",
    "\n",
    "def class_counts(rows):\n",
    "    \"\"\"Counts the number of each type of example in a dataset.\"\"\"\n",
    "    counts = {}  # a dictionary of label -> count.\n",
    "    for row in rows:\n",
    "        # in our dataset format, the label is always the last column\n",
    "        label = row[-1]\n",
    "        if label not in counts:\n",
    "            counts[label] = 0\n",
    "        counts[label] += 1\n",
    "    return counts\n",
    "\n",
    "def is_numeric(value):\n",
    "    \"\"\"Test if a value is numeric.\"\"\"\n",
    "    return isinstance(value, int) or isinstance(value, float)\n",
    "\n",
    "class Question:\n",
    "    \"\"\"A Question is used to partition a dataset.\"\"\"\n",
    "\n",
    "    def __init__(self, column, value):\n",
    "        self.column = column\n",
    "        self.value = value\n",
    "\n",
    "    def match(self, example):\n",
    "        # Compare the feature value in an example to the\n",
    "        # feature value in this question.\n",
    "        val = example[self.column]\n",
    "        if is_numeric(val):\n",
    "            return val >= self.value\n",
    "        else:\n",
    "            return val == self.value\n",
    "\n",
    "    def __repr__(self):\n",
    "        # This is just a helper method to print\n",
    "        # the question in a readable format.\n",
    "        condition = \"==\"\n",
    "        if is_numeric(self.value):\n",
    "            condition = \">=\"\n",
    "        return \"Is %s %s %s?\" % (\n",
    "            header[self.column], condition, str(self.value))\n",
    "\n",
    "def partition(rows, question):\n",
    "    \"\"\"Partitions a dataset.\"\"\"\n",
    "    true_rows, false_rows = [], []\n",
    "    for row in rows:\n",
    "        if question.match(row):\n",
    "            true_rows.append(row)\n",
    "        else:\n",
    "            false_rows.append(row)\n",
    "    return true_rows, false_rows\n",
    "\n",
    "def Shannon(rows):\n",
    "    \"\"\"Calculate the shannon entropy for a list of rows.\"\"\"\n",
    "    counts = class_counts(rows)\n",
    "    impurity = 1\n",
    "    for lbl in counts:\n",
    "        prob_of_lbl = counts[lbl] / float(len(rows))\n",
    "        impurity -= prob_of_lbl* log(prob_of_lbl,2)\n",
    "    return impurity\n",
    "\n",
    "def info_gain(left, right, current_uncertainty):\n",
    "    \"\"\"Information Gain. \"\"\"\n",
    "    p = float(len(left)) / (len(left) + len(right))\n",
    "    return current_uncertainty - p * Shannon(left) - (1 - p) * Shannon(right)\n",
    "\n",
    "def find_best_split(rows):\n",
    "    \"\"\"Find the best question to ask by iterating over every feature / value\n",
    "    and calculating the information gain.\"\"\"\n",
    "    best_gain = 0  # keep track of the best information gain\n",
    "    best_question = None  # keep train of the feature / value that produced it\n",
    "    current_uncertainty = Shannon(rows)\n",
    "    n_features = len(rows[0]) - 1  # number of columns\n",
    "\n",
    "    for col in range(n_features):  # for each feature\n",
    "\n",
    "        values = set([row[col] for row in rows])  # unique values in the column\n",
    "\n",
    "        for val in values:  # for each value\n",
    "\n",
    "            question = Question(col, val)\n",
    "\n",
    "            # try splitting the dataset\n",
    "            true_rows, false_rows = partition(rows, question)\n",
    "\n",
    "            # Skip this split if it doesn't divide the\n",
    "            # dataset.\n",
    "            if len(true_rows) == 0 or len(false_rows) == 0:\n",
    "                continue\n",
    "\n",
    "            # Calculate the information gain from this split\n",
    "            gain = info_gain(true_rows, false_rows, current_uncertainty)\n",
    "\n",
    "            # You actually can use '>' instead of '>=' here\n",
    "            # but I wanted the tree to look a certain way for our\n",
    "            # toy dataset.\n",
    "            if gain >= best_gain:\n",
    "                best_gain, best_question = gain, question\n",
    "\n",
    "    return best_gain, best_question\n",
    "\n",
    "\n",
    "class Leaf:\n",
    "    \"\"\"A Leaf node classifies data.\"\"\"\n",
    "\n",
    "    def __init__(self, rows):\n",
    "        self.predictions = class_counts(rows)\n",
    "        \n",
    "class Decision_Node:\n",
    "    \"\"\"A Decision Node asks a question.\"\"\"\n",
    "\n",
    "    def __init__(self,\n",
    "                 question,\n",
    "                 true_branch,\n",
    "                 false_branch):\n",
    "        self.question = question\n",
    "        self.true_branch = true_branch\n",
    "        self.false_branch = false_branch\n",
    "        \n",
    "def build_tree(rows):\n",
    "    \"\"\"Builds the tree.\"\"\"\n",
    "\n",
    "    # Try partitioing the dataset on each of the unique attribute,\n",
    "    # calculate the information gain,\n",
    "    # and return the question that produces the highest gain.\n",
    "    gain, question = find_best_split(rows)\n",
    "\n",
    "    # Base case: no further info gain\n",
    "    # Since we can ask no further questions,\n",
    "    # we'll return a leaf.\n",
    "    if gain == 0:\n",
    "        return Leaf(rows)\n",
    "\n",
    "    # If we reach here, we have found a useful feature / value\n",
    "    # to partition on.\n",
    "    true_rows, false_rows = partition(rows, question)\n",
    "\n",
    "    # Recursively build the true branch.\n",
    "    true_branch = build_tree(true_rows)\n",
    "\n",
    "    # Recursively build the false branch.\n",
    "    false_branch = build_tree(false_rows)\n",
    "\n",
    "    # Return a Question node.\n",
    "    # This records the best feature / value to ask at this point,\n",
    "    # as well as the branches to follow\n",
    "    # dependingo on the answer.\n",
    "    return Decision_Node(question, true_branch, false_branch)\n",
    "\n",
    "def print_tree(node, spacing=\"\"):\n",
    "    \"\"\"World's most elegant tree printing function.\"\"\"\n",
    "\n",
    "    # Base case: we've reached a leaf\n",
    "    if isinstance(node, Leaf):\n",
    "        print (spacing + \"Predict\", node.predictions)\n",
    "        return\n",
    "\n",
    "    # Print the question at this node\n",
    "    print (spacing + str(node.question))\n",
    "\n",
    "    # Call this function recursively on the true branch\n",
    "    print (spacing + '--> True:')\n",
    "    print_tree(node.true_branch, spacing + \"  \")\n",
    "\n",
    "    # Call this function recursively on the false branch\n",
    "    print (spacing + '--> False:')\n",
    "    print_tree(node.false_branch, spacing + \"  \")\n",
    "\n",
    "def classify(row, node):\n",
    "    \"\"\"See the 'rules of recursion' above.\"\"\"\n",
    "\n",
    "    # Base case: we've reached a leaf\n",
    "    if isinstance(node, Leaf):\n",
    "        return node.predictions\n",
    "\n",
    "    # Decide whether to follow the true-branch or the false-branch.\n",
    "    # Compare the feature / value stored in the node,\n",
    "    # to the example we're considering.\n",
    "    if node.question.match(row):\n",
    "        return classify(row, node.true_branch)\n",
    "    else:\n",
    "        return classify(row, node.false_branch)\n",
    "\n",
    "def print_leaf(counts):\n",
    "    \"\"\"A nicer way to print the predictions at a leaf.\"\"\"\n",
    "    total = sum(counts.values()) * 1.0\n",
    "    probs = {}\n",
    "    for lbl in counts.keys():\n",
    "        probs[lbl] = str(int(counts[lbl] / total * 100)) + \"%\"\n",
    "    return probs\n"
   ]
  },
  {
   "cell_type": "code",
   "execution_count": 42,
   "metadata": {},
   "outputs": [
    {
     "name": "stdout",
     "output_type": "stream",
     "text": [
      "Is f1 == 2?\n",
      "--> True:\n",
      "  Predict {1: 1, 2: 1, 3: 1}\n",
      "--> False:\n",
      "  Is f1 == 1?\n",
      "  --> True:\n",
      "    Predict {1: 1, 2: 1, 3: 1}\n",
      "  --> False:\n",
      "    Predict {1: 2, 2: 2, 3: 2, 4: 2}\n"
     ]
    }
   ],
   "source": [
    "my_tree = build_tree(feat)\n",
    "print_tree(my_tree)"
   ]
  }
 ],
 "metadata": {
  "kernelspec": {
   "display_name": "Python 3.10.4 64-bit",
   "language": "python",
   "name": "python3"
  },
  "language_info": {
   "codemirror_mode": {
    "name": "ipython",
    "version": 3
   },
   "file_extension": ".py",
   "mimetype": "text/x-python",
   "name": "python",
   "nbconvert_exporter": "python",
   "pygments_lexer": "ipython3",
   "version": "3.10.4"
  },
  "orig_nbformat": 4,
  "vscode": {
   "interpreter": {
    "hash": "37a27d0e5b469d6519fba8d674fca678a9e423d1818ec628dd8efc12286d08bf"
   }
  }
 },
 "nbformat": 4,
 "nbformat_minor": 2
}
