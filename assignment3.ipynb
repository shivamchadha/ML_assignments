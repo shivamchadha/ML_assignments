{
  "cells": [
    {
      "cell_type": "markdown",
      "metadata": {
        "id": "8R9_vCf3Q2el"
      },
      "source": [
        "Assignment-3  \n",
        "BITS F464    \n",
        "Shivam Chadha  \n",
        "2019B4AA0704G  \n",
        "Honour Code: I shall be honest in my efforts and will make my parents proud"
      ]
    },
    {
      "cell_type": "code",
      "execution_count": 204,
      "metadata": {
        "id": "-dzXYRjYQ2eo"
      },
      "outputs": [],
      "source": [
        "import numpy as np\n",
        "import matplotlib.pyplot as plt\n",
        "from sympy import * \n",
        "from scipy import linalg, matrix\n"
      ]
    },
    {
      "cell_type": "code",
      "execution_count": 205,
      "metadata": {
        "id": "Q12VDxIbQ2ep"
      },
      "outputs": [],
      "source": [
        "import warnings\n",
        "warnings.filterwarnings(\"ignore\")"
      ]
    },
    {
      "cell_type": "markdown",
      "metadata": {
        "id": "nm8i9UBgQ2eq"
      },
      "source": [
        "# Section I : Vector Space"
      ]
    },
    {
      "cell_type": "markdown",
      "metadata": {
        "id": "68Ee_cCSQ2eq"
      },
      "source": [
        "### 1.\n",
        "Definitions  \n",
        "1. Vector Space :  \n",
        "A set where all elements satifsy the following 2 conditions \n",
        "- Addition is closed  \n",
        "- Scaler multiplication is closed "
      ]
    },
    {
      "cell_type": "markdown",
      "metadata": {
        "id": "Y2sQOcIQQ2eq"
      },
      "source": [
        "2. Column Space :  \n",
        "Column space of matrix A is the span of its column vectors, i.e all possible combinations of column vectors."
      ]
    },
    {
      "cell_type": "markdown",
      "metadata": {
        "id": "nZ01aLl_Q2er"
      },
      "source": [
        "3. Row space :  \n",
        "Space spanned by row vectors of a matrix "
      ]
    },
    {
      "cell_type": "markdown",
      "metadata": {
        "id": "02YjmBPOQ2er"
      },
      "source": [
        "4. Right Null Space:  \n",
        "For a matrix $A \\in R_{mXn}$, its right  null space is a matrix $X = Null(A)$ such that AX = 0, where $X \\in R_{n}x(n-r)$ , where $ r = Rank(A)$ "
      ]
    },
    {
      "cell_type": "markdown",
      "metadata": {
        "id": "e3jrYq8vQ2er"
      },
      "source": [
        "5. Left Null Space:  \n",
        "For a matrix $A \\in R_{mXn}$, its left null space is a matrix $X = Null(A^{T})$ such that $A^{T}X = 0$, where $X \\in R_{m}x(m-r)$ , where $ r = Rank(A)$ "
      ]
    },
    {
      "cell_type": "markdown",
      "metadata": {
        "id": "ZKcN1aYwQ2es"
      },
      "source": [
        "6.Vector Space :  \n",
        "The cardinatlity of bases of vector space V, denoted by dim(V)"
      ]
    },
    {
      "cell_type": "markdown",
      "metadata": {
        "id": "yK0Qt7t3Q2es"
      },
      "source": [
        "7. Basis of Vector Space :\n",
        "A set B of vectors is called basis of vector space B, if every element of V can be represented in a finite linear combination of elements in the basis vector. This representation must also be unique. The elements of basis are linearly independent."
      ]
    },
    {
      "cell_type": "markdown",
      "metadata": {
        "id": "ZgpB-MFNQ2es"
      },
      "source": [
        "8. Rank of matrix A :  \n",
        "The rank of matrix A is the maximum bumber of its linearly independent row/column vectors.\n"
      ]
    },
    {
      "cell_type": "markdown",
      "metadata": {
        "id": "C-_NS96VQ2et"
      },
      "source": [
        "9. L2 norm of a vector x :  \n",
        "The $l^{2}$ is the vector norm for a vector $$ x=[x_{1} x_{2}  \\cdots x_{n}]^{T} $$\n",
        "is\n",
        "$$ |x|_{2}=\\sqrt{\\sum_{k=1}^{n} |x_k|^2} $$"
      ]
    },
    {
      "cell_type": "markdown",
      "metadata": {
        "id": "5ZTnLq4oQ2et"
      },
      "source": [
        "### 2  \n",
        "Answers\n",
        "- Column Space\n",
        "- Dot product, 0.\n",
        "- 0,1\n",
        "-  row,column\n",
        "\n",
        "Statments  \n",
        "• Ax = b has a solution when b lies in column space of A.  \n",
        "• Two nonzero vectors are orthogonal when their dor product is 0.  \n",
        "• Two nonzero vectors are orthonormal when their dot product is 0 and the L2 norm of two\n",
        "vectors are 1,1 respectively.  \n",
        "• Consider matrices A and B = [AA]. A and B has same row space and column space.  \n"
      ]
    },
    {
      "cell_type": "markdown",
      "metadata": {
        "id": "qxR5GfluQ2ez"
      },
      "source": [
        "### 3\n",
        "\n",
        "1. False   \n",
        "     orthogonality implies linear independence only when the 2 vectors are not zero. Otherwise they are linear independent as theor dot product is 0.\n",
        "2. False  \n",
        "     [1 0] , [1 1] are linearly independent but not orthogonal\n",
        "3. True  \n",
        "     fundamental property of matrix\n",
        "4. True  \n",
        "     same as 3\n",
        "5. False  \n",
        "     B can be some factor of A, like B=A.\n"
      ]
    },
    {
      "cell_type": "markdown",
      "metadata": {
        "id": "9GuybRgrQ2e0"
      },
      "source": [
        "### 4\n",
        "$$ \\left(\\begin{array}{cc} \n",
        "1 & 2 & 3 & 4\\\\\n",
        "2 & 4 & 6 & 8\n",
        "\\end{array}\\right) $$\n",
        "Transformations  \n",
        "C4 = c4-4*c1  \n",
        "C3 = c3-3*c1  \n",
        "C2 = c2-2*c1  \n",
        "\n",
        "$$ \\left(\\begin{array}{cc} \n",
        "1 & 0 & 0 & 0\\\\\n",
        "2 & 0 & 0 & 0\n",
        "\\end{array}\\right) $$\n",
        "Rank(column) = 1  \n",
        "\n",
        "R2 = R2-2*R1  \n",
        "$$ \\left(\\begin{array}{cc} \n",
        "1 & 2 & 3 & 4\\\\\n",
        "0 & 0 & 0 & 0\n",
        "\\end{array}\\right) $$\n",
        "Rank(row) = 1\n",
        "\n",
        "Rank(matrix) = 1"
      ]
    },
    {
      "cell_type": "code",
      "execution_count": 206,
      "metadata": {
        "colab": {
          "base_uri": "https://localhost:8080/",
          "height": 281
        },
        "id": "Lkw7whmAQ2e0",
        "outputId": "3ccc5b49-46f7-443a-9f43-f3d54899d1e0"
      },
      "outputs": [
        {
          "data": {
            "image/png": "[encoded data removed]",
            "text/plain": [
              "<Figure size 432x288 with 1 Axes>"
            ]
          },
          "metadata": {
            "needs_background": "light"
          },
          "output_type": "display_data"
        }
      ],
      "source": [
        "\n",
        "V = np.array([1,2])\n",
        "origin = np.array([[0, 0, 0],[0, 0, 0]]) # origin point\n",
        "\n",
        "plt.quiver(*origin, V[0], V[1],scale=1, scale_units='inches')\n",
        "plt.xlim([0,3])\n",
        "plt.ylim([0,3])\n",
        "plt.title('basis set that spans the column space')\n",
        "plt.show()"
      ]
    },
    {
      "cell_type": "markdown",
      "metadata": {
        "id": "6lhLeYH4Q2e1"
      },
      "source": [
        "### 5\n"
      ]
    },
    {
      "cell_type": "code",
      "execution_count": 4,
      "metadata": {
        "id": "mPv61G16Q2e2"
      },
      "outputs": [],
      "source": [
        "np.random.seed(42)\n",
        "A = np.random.randint(0,5,size=(5,4))\n",
        "A[2] = A[0]*2\n",
        "A[3] = A[0]*3\n",
        "A[4] = A[0]*4\n",
        "\n",
        "b = np.random.randint(0,10,size=(5))\n",
        "\n",
        "b[2] =  b[0]*2\n",
        "b[3] =  b[0]*3\n",
        "b[4] =  b[0]*4\n",
        "\n",
        "\n"
      ]
    },
    {
      "cell_type": "code",
      "execution_count": 5,
      "metadata": {
        "colab": {
          "base_uri": "https://localhost:8080/"
        },
        "id": "ibgttI5tQ2e2",
        "outputId": "fb2ecc25-55be-4b1e-f54d-ec5af1c4232d"
      },
      "outputs": [
        {
          "name": "stdout",
          "output_type": "stream",
          "text": [
            "rank: 2\n"
          ]
        },
        {
          "data": {
            "text/plain": [
              "array([[ 3,  4,  2,  4],\n",
              "       [ 4,  1,  2,  2],\n",
              "       [ 6,  8,  4,  8],\n",
              "       [ 9, 12,  6, 12],\n",
              "       [12, 16,  8, 16]])"
            ]
          },
          "execution_count": 5,
          "metadata": {},
          "output_type": "execute_result"
        }
      ],
      "source": [
        "print('rank:',np.linalg.matrix_rank(A))\n",
        "A "
      ]
    },
    {
      "cell_type": "code",
      "execution_count": 6,
      "metadata": {
        "id": "vNagTsPAQ2e3"
      },
      "outputs": [],
      "source": [
        "# getting row echelon form\n",
        "A[2] = A[2] - A[0]*2\n",
        "A[3] = A[3] - A[0]*3\n",
        "A[4] = A[4] - A[0]*4\n",
        "\n",
        "b[2] = b[2] - b[0]*2\n",
        "b[3] = b[3] - b[0]*3\n",
        "b[4] = b[4] - b[0]*4\n",
        "\n"
      ]
    },
    {
      "cell_type": "markdown",
      "metadata": {
        "id": "PCfkDLo4c-Ux"
      },
      "source": [
        "fixing 2 independent variables randomly and the solving for the other 2 dependent variables"
      ]
    },
    {
      "cell_type": "code",
      "execution_count": 7,
      "metadata": {
        "id": "JmmnkacVQ2e3"
      },
      "outputs": [],
      "source": [
        "X = []\n",
        "\n",
        "for i in range(100):\n",
        "    x =np.random.randint(-10,10,2)\n",
        "    Ax = np.dot(A[:,:2],x[:2])\n",
        "    bm = b-Ax\n",
        "    x2 = np.linalg.solve(A[:2,2:],bm[:2])\n",
        "    x = np.append(x[:2],x2)\n",
        "    X.append(x)\n",
        "            \n",
        "        "
      ]
    },
    {
      "cell_type": "markdown",
      "metadata": {
        "id": "xHHATq8qdH4C"
      },
      "source": [
        "Checking if AX = b"
      ]
    },
    {
      "cell_type": "code",
      "execution_count": 8,
      "metadata": {
        "colab": {
          "base_uri": "https://localhost:8080/"
        },
        "id": "o_MetdpOQ2e3",
        "outputId": "1e961ad8-a65b-496b-ff61-ccc110cd1510"
      },
      "outputs": [
        {
          "data": {
            "text/plain": [
              "array([9., 5., 0., 0., 0.])"
            ]
          },
          "execution_count": 8,
          "metadata": {},
          "output_type": "execute_result"
        }
      ],
      "source": [
        "np.dot(A,X[1])"
      ]
    },
    {
      "cell_type": "markdown",
      "metadata": {
        "id": "vAD1f2YFQ2e4"
      },
      "source": [
        "### 6"
      ]
    },
    {
      "cell_type": "code",
      "execution_count": 191,
      "metadata": {
        "id": "8A4QTsbLQ2e5"
      },
      "outputs": [],
      "source": [
        "A = np.array([[1,-1,0,1],[1,1,3,1],[1,1,2,2]])"
      ]
    },
    {
      "cell_type": "code",
      "execution_count": 192,
      "metadata": {
        "colab": {
          "base_uri": "https://localhost:8080/"
        },
        "id": "vxdUkvZiQ2e5",
        "outputId": "6c6bc5c1-94d7-44e3-e280-73db896bf70e"
      },
      "outputs": [
        {
          "data": {
            "text/plain": [
              "3"
            ]
          },
          "execution_count": 192,
          "metadata": {},
          "output_type": "execute_result"
        }
      ],
      "source": [
        "np.linalg.matrix_rank(A)"
      ]
    },
    {
      "cell_type": "markdown",
      "metadata": {
        "id": "p-1pZe3MR5T5"
      },
      "source": [
        "$dim(right null space) = dim(col) - rank = 4 - 3 = 1$\n",
        "\n",
        "$dim(left null space) = dim(row) - rank  = 3 - 3 = 0$\n",
        "\n",
        "\n"
      ]
    },
    {
      "cell_type": "code",
      "execution_count": 193,
      "metadata": {
        "colab": {
          "base_uri": "https://localhost:8080/"
        },
        "id": "xIgEidzFRTpU",
        "outputId": "22d9c806-c190-4001-cddc-5bfeec05eeaa"
      },
      "outputs": [
        {
          "data": {
            "text/plain": [
              "[Matrix([\n",
              " [-5/2],\n",
              " [-3/2],\n",
              " [   1],\n",
              " [   1]])]"
            ]
          },
          "execution_count": 193,
          "metadata": {},
          "output_type": "execute_result"
        }
      ],
      "source": [
        "Matrix(A).nullspace()"
      ]
    },
    {
      "cell_type": "code",
      "execution_count": 194,
      "metadata": {
        "colab": {
          "base_uri": "https://localhost:8080/"
        },
        "id": "oTMdQ4HTS1fg",
        "outputId": "33a05eb1-4916-4b98-9f9d-28b052c6e412"
      },
      "outputs": [
        {
          "data": {
            "text/plain": [
              "[]"
            ]
          },
          "execution_count": 194,
          "metadata": {},
          "output_type": "execute_result"
        }
      ],
      "source": [
        "Matrix(A.T).nullspace()"
      ]
    },
    {
      "cell_type": "markdown",
      "metadata": {
        "id": "FOqhRG8CS7Nw"
      },
      "source": [
        "So left null space exists but right does not"
      ]
    },
    {
      "cell_type": "markdown",
      "metadata": {
        "id": "NBvk9GZiQ2e7"
      },
      "source": [
        "### 7"
      ]
    },
    {
      "cell_type": "code",
      "execution_count": 202,
      "metadata": {
        "colab": {
          "base_uri": "https://localhost:8080/",
          "height": 78
        },
        "id": "rxXyglcJQ2e7",
        "outputId": "23e4a465-fade-4fe8-a171-433bc6cd566e"
      },
      "outputs": [
        {
          "data": {
            "text/latex": [
              "$\\displaystyle \\left[\\begin{matrix}1 & 0 & 0 & \\frac{5}{2} & \\frac{7}{2}\\\\0 & 1 & 0 & \\frac{3}{2} & \\frac{1}{2}\\\\0 & 0 & 1 & -1 & -1\\end{matrix}\\right]$"
            ],
            "text/plain": [
              "Matrix([\n",
              "[1, 0, 0, 5/2, 7/2],\n",
              "[0, 1, 0, 3/2, 1/2],\n",
              "[0, 0, 1,  -1,  -1]])"
            ]
          },
          "execution_count": 202,
          "metadata": {},
          "output_type": "execute_result"
        }
      ],
      "source": [
        "b  =Matrix([[3],[1],[2]])\n",
        "augA = Matrix.hstack(Matrix(A),b)\n",
        "augA.rref()[0]"
      ]
    },
    {
      "cell_type": "markdown",
      "metadata": {
        "id": "6vD_EkvFgt4-"
      },
      "source": [
        "Since we have an independent variable we'll always have a solution  \n",
        "For no solution the rank of matrix has to be less than the rank of augmented matrix"
      ]
    },
    {
      "cell_type": "code",
      "execution_count": 203,
      "metadata": {
        "colab": {
          "base_uri": "https://localhost:8080/"
        },
        "id": "p5cOjQH4UO0g",
        "outputId": "ab3a6b78-0bf7-4a54-bf6d-f68b50bb59e8"
      },
      "outputs": [
        {
          "name": "stdout",
          "output_type": "stream",
          "text": [
            "Rank of A =  3\n",
            "Rank of A|b =  3\n"
          ]
        }
      ],
      "source": [
        "print('Rank of A = ',np.linalg.matrix_rank(A))\n",
        "print('Rank of A|b = ',augA.rank())"
      ]
    },
    {
      "cell_type": "markdown",
      "metadata": {
        "id": "QfjhMeAtQ2e7"
      },
      "source": [
        "### 8"
      ]
    },
    {
      "cell_type": "code",
      "execution_count": 114,
      "metadata": {
        "colab": {
          "base_uri": "https://localhost:8080/"
        },
        "id": "uQHHlhgFQ2e7",
        "outputId": "6d34f14b-d274-42a7-f17d-47a39aeb735d"
      },
      "outputs": [
        {
          "data": {
            "text/plain": [
              "2"
            ]
          },
          "execution_count": 114,
          "metadata": {},
          "output_type": "execute_result"
        }
      ],
      "source": [
        "A = np.array([[1,2,3,4],[2,3,4,5],[5,8,11,14],[3,5,7,9]])\n",
        "\n",
        "np.linalg.matrix_rank(A)"
      ]
    },
    {
      "cell_type": "code",
      "execution_count": 116,
      "metadata": {
        "colab": {
          "base_uri": "https://localhost:8080/",
          "height": 98
        },
        "id": "KRa_ZRAhXlCU",
        "outputId": "a7a83150-8de5-4de6-ea69-5ebd8f158d3a"
      },
      "outputs": [
        {
          "data": {
            "text/latex": [
              "$\\displaystyle \\left[\\begin{matrix}1 & 0 & -1 & -2\\\\0 & 1 & 2 & 3\\\\0 & 0 & 0 & 0\\\\0 & 0 & 0 & 0\\end{matrix}\\right]$"
            ],
            "text/plain": [
              "Matrix([\n",
              "[1, 0, -1, -2],\n",
              "[0, 1,  2,  3],\n",
              "[0, 0,  0,  0],\n",
              "[0, 0,  0,  0]])"
            ]
          },
          "execution_count": 116,
          "metadata": {},
          "output_type": "execute_result"
        }
      ],
      "source": [
        "Matrix(A).rref()[0]"
      ]
    },
    {
      "cell_type": "markdown",
      "metadata": {
        "id": "TR03vc2zX4D4"
      },
      "source": [
        "now the last to rows of b must be non zero for it to not have a solution"
      ]
    },
    {
      "cell_type": "code",
      "execution_count": 117,
      "metadata": {
        "id": "OSdG4KY6YAn_"
      },
      "outputs": [],
      "source": [
        "x1,x2,x3,x4 = symbols('x1 x2 x3 x4')"
      ]
    },
    {
      "cell_type": "code",
      "execution_count": 118,
      "metadata": {
        "id": "p1XRI29EYOy6"
      },
      "outputs": [],
      "source": [
        "b = [x1,x2,x4,x4] "
      ]
    },
    {
      "cell_type": "markdown",
      "metadata": {
        "id": "hePSoN3XYXAC"
      },
      "source": [
        "$$ A|b = \\left(\\begin{array}{cc} \n",
        "1 & 2 & 3 & 4 & x1\\\\\n",
        "0 & 1 & 2 & 3 & -2x1+x2\\\\\n",
        "0 & 0 & 0 & 0 & -x1-2x2+x3\\\\\n",
        "0 & 0 & 0 & 0 & -x1-x2-x4\\\\\n",
        "\\end{array}\\right) $$\n"
      ]
    },
    {
      "cell_type": "markdown",
      "metadata": {
        "id": "djPiqsXGaG46"
      },
      "source": [
        "set x1,x2=0   \n",
        "Let x3 and x4 be any non zero number.  \n",
        "it will give 0 = x3 and 0=-x4  \n",
        "So no solution will exist"
      ]
    },
    {
      "cell_type": "code",
      "execution_count": 127,
      "metadata": {
        "colab": {
          "base_uri": "https://localhost:8080/"
        },
        "id": "6o5MqgRzYTPp",
        "outputId": "21760535-4928-401d-ef56-c8d503d010c8"
      },
      "outputs": [
        {
          "name": "stdout",
          "output_type": "stream",
          "text": [
            "\n",
            "1: \n",
            "Solution exists:  False\n",
            "\n",
            "2: \n",
            "Solution exists:  False\n",
            "\n",
            "3: \n",
            "Solution exists:  False\n",
            "\n",
            "4: \n",
            "Solution exists:  False\n",
            "\n",
            "5: \n",
            "Solution exists:  False\n",
            "\n",
            "6: \n",
            "Solution exists:  False\n",
            "\n",
            "7: \n",
            "Solution exists:  False\n",
            "\n",
            "8: \n",
            "Solution exists:  False\n",
            "\n",
            "9: \n",
            "Solution exists:  False\n",
            "\n",
            "10: \n",
            "Solution exists:  False\n"
          ]
        }
      ],
      "source": [
        "x1=0\n",
        "x2=0\n",
        "A = Matrix(A)\n",
        "for i in range(1,11):\n",
        "    x3 = np.random.randint(1,10)\n",
        "    x4 = np.random.randint(1,10)\n",
        "    augA = Matrix([[1, 2, 3, 4, x1],[2, 3, 4, 5, x2],[5, 8, 11, 14, x3],[3, 5, 7, 9, x4]])\n",
        "    print(\"\\n%d: \"%i)\n",
        "    print(\"Solution exists:  \" + str(A.rank() == augA.rank()) )\n"
      ]
    },
    {
      "cell_type": "markdown",
      "metadata": {
        "id": "xDrgBSAVQ2e7"
      },
      "source": [
        "# Section 1.2 Regression"
      ]
    },
    {
      "cell_type": "markdown",
      "metadata": {
        "id": "4AxPDNrBQ2e8"
      },
      "source": [
        "### 9"
      ]
    },
    {
      "cell_type": "markdown",
      "metadata": {
        "id": "KAJg-KQ5Q2e8"
      },
      "source": [
        "$$\n",
        "\\left(\\begin{array}{cc} \n",
        "1 & 0\\\\\n",
        "0 & 1 \\\\\n",
        "0 & 0\n",
        "\\end{array}\\right)\n",
        "\\left(\\begin{array}{cc} \n",
        "v_{11}\\\\ \n",
        "v_{12}\n",
        "\\end{array}\\right)\n",
        "=\n",
        "\\left(\\begin{array}{cc} \n",
        "1\\\\ \n",
        "1\\\\\n",
        "1\n",
        "\\end{array}\\right)\n",
        "$$ "
      ]
    },
    {
      "cell_type": "markdown",
      "metadata": {
        "id": "_XR5sM-bQ2e8"
      },
      "source": [
        "The matrix does not have a soln as the L.H.S cannot be equal to R.H.S regardless of values of $v_{11}$ and $v_{12} $   \n",
        "This gives 3 equations:\n",
        "- $v_{11} =1$\n",
        "- $v_{12} = 1$\n",
        "- $0=1$\n",
        "\n",
        "The third equation is not possible,so no solutions are possible.  \n",
        "Also the rank of Matrix A is 2 while the rank of b is 3. So there exists no solutions "
      ]
    },
    {
      "cell_type": "code",
      "execution_count": 131,
      "metadata": {
        "id": "7ssf1ZzQQ2e8"
      },
      "outputs": [],
      "source": [
        "A = np.array([[1,0],[0,1],[0,0]])\n",
        "b = np.ones(3)"
      ]
    },
    {
      "cell_type": "code",
      "execution_count": 132,
      "metadata": {
        "colab": {
          "base_uri": "https://localhost:8080/"
        },
        "id": "SFZ8TtNnQ2e8",
        "outputId": "6c7fba8b-3a58-4efa-b222-365d9fd47150"
      },
      "outputs": [
        {
          "data": {
            "text/plain": [
              "array([1., 1.])"
            ]
          },
          "execution_count": 132,
          "metadata": {},
          "output_type": "execute_result"
        }
      ],
      "source": [
        "np.linalg.lstsq(A,b)[0]"
      ]
    },
    {
      "cell_type": "code",
      "execution_count": 133,
      "metadata": {
        "colab": {
          "base_uri": "https://localhost:8080/"
        },
        "id": "FZFrMUhVQ2e9",
        "outputId": "88e009e8-984d-4904-af48-cb5402bebdf6"
      },
      "outputs": [
        {
          "data": {
            "text/plain": [
              "array([1., 1.])"
            ]
          },
          "execution_count": 133,
          "metadata": {},
          "output_type": "execute_result"
        }
      ],
      "source": [
        "np.dot(np.dot(np.linalg.inv(np.dot(A.T,A)),A.T),b)"
      ]
    },
    {
      "cell_type": "markdown",
      "metadata": {
        "id": "R2BTNWjra43j"
      },
      "source": [
        "This is the least sqaures solution."
      ]
    },
    {
      "cell_type": "markdown",
      "metadata": {
        "id": "A20PXza6Q2e9"
      },
      "source": [
        "### 10"
      ]
    },
    {
      "cell_type": "code",
      "execution_count": 136,
      "metadata": {
        "id": "f8kG7TLXQ2e9"
      },
      "outputs": [],
      "source": [
        "path = r\"data_assign3.txt\"\n",
        "data = np.genfromtxt(path)\n",
        "x = data[:,0]\n",
        "y = data[:,1]"
      ]
    },
    {
      "cell_type": "code",
      "execution_count": 137,
      "metadata": {
        "id": "MMrqm-0vQ2e-"
      },
      "outputs": [],
      "source": [
        "def poly_reg(x,y):\n",
        "    a = np.dot(np.dot(np.linalg.inv(np.dot(x.T,x)),x.T),y)\n",
        "    return np.dot(x,a)"
      ]
    },
    {
      "cell_type": "code",
      "execution_count": 138,
      "metadata": {
        "id": "t0f9SkYxQ2e9"
      },
      "outputs": [],
      "source": [
        "x1 = np.c_[x,np.ones(x.shape[0])]\n",
        "Y1 = poly_reg(x1,y)"
      ]
    },
    {
      "cell_type": "code",
      "execution_count": 140,
      "metadata": {
        "colab": {
          "base_uri": "https://localhost:8080/",
          "height": 295
        },
        "id": "IYKt6u7bQ2e-",
        "outputId": "007bb081-c6a7-48ff-d5ef-5eb7bf123b27"
      },
      "outputs": [
        {
          "data": {
            "image/png": "[encoded data removed]",
            "text/plain": [
              "<Figure size 432x288 with 1 Axes>"
            ]
          },
          "metadata": {
            "needs_background": "light"
          },
          "output_type": "display_data"
        }
      ],
      "source": [
        "plt.scatter(x,y,color='b')\n",
        "plt.plot(x,Y1,'r');\n",
        "plt.title('Linear')\n",
        "plt.ylabel('Y')\n",
        "plt.xlabel('X');"
      ]
    },
    {
      "cell_type": "code",
      "execution_count": 141,
      "metadata": {
        "id": "R1gQ70IFQ2e-"
      },
      "outputs": [],
      "source": [
        "x2 = np.c_[x,np.square(x),np.ones(x.shape[0])]\n",
        "Y2 = poly_reg(x2,y)"
      ]
    },
    {
      "cell_type": "code",
      "execution_count": 142,
      "metadata": {
        "colab": {
          "base_uri": "https://localhost:8080/",
          "height": 295
        },
        "id": "EWoacXAxQ2e-",
        "outputId": "77d2f39a-67f4-4fa5-eff7-cb2338233a5c"
      },
      "outputs": [
        {
          "data": {
            "image/png": "[encoded data removed]",
            "text/plain": [
              "<Figure size 432x288 with 1 Axes>"
            ]
          },
          "metadata": {
            "needs_background": "light"
          },
          "output_type": "display_data"
        }
      ],
      "source": [
        "plt.plot(x,y,'b')\n",
        "plt.plot(x,Y2,'r');\n",
        "plt.title('Order 2')\n",
        "plt.ylabel('Y')\n",
        "plt.xlabel('X');"
      ]
    },
    {
      "cell_type": "code",
      "execution_count": 143,
      "metadata": {
        "id": "AUy7GghyQ2e-"
      },
      "outputs": [],
      "source": [
        "x3 = np.c_[x,np.square(x),np.power(x,3),np.ones(x.shape[0])]\n",
        "Y3 = poly_reg(x3,y)"
      ]
    },
    {
      "cell_type": "code",
      "execution_count": 144,
      "metadata": {
        "colab": {
          "base_uri": "https://localhost:8080/",
          "height": 295
        },
        "id": "oAVGXhXNQ2e_",
        "outputId": "2c61fdce-7d75-4148-877c-7142345e7835"
      },
      "outputs": [
        {
          "data": {
            "image/png": "[encoded data removed]",
            "text/plain": [
              "<Figure size 432x288 with 1 Axes>"
            ]
          },
          "metadata": {
            "needs_background": "light"
          },
          "output_type": "display_data"
        }
      ],
      "source": [
        "plt.plot(x,y,'b')\n",
        "plt.plot(x,Y3,'r')\n",
        "plt.title('Order 3')\n",
        "plt.ylabel('Y')\n",
        "plt.xlabel('X');"
      ]
    },
    {
      "cell_type": "code",
      "execution_count": 145,
      "metadata": {
        "id": "82JeKUyzQ2e_"
      },
      "outputs": [],
      "source": [
        "x4 = np.c_[x,np.square(x),np.power(x,3),np.power(x,4),np.ones(x.shape[0])]\n",
        "Y4 = poly_reg(x4,y)"
      ]
    },
    {
      "cell_type": "code",
      "execution_count": 146,
      "metadata": {
        "colab": {
          "base_uri": "https://localhost:8080/",
          "height": 295
        },
        "id": "a2rRpKmKQ2e_",
        "outputId": "3701afc9-447d-46f6-84fc-76bf91e94ead"
      },
      "outputs": [
        {
          "data": {
            "image/png": "[encoded data removed]",
            "text/plain": [
              "<Figure size 432x288 with 1 Axes>"
            ]
          },
          "metadata": {
            "needs_background": "light"
          },
          "output_type": "display_data"
        }
      ],
      "source": [
        "plt.plot(x,y,'b')\n",
        "plt.plot(x,Y4,'r')\n",
        "plt.title('Order 4')\n",
        "plt.ylabel('Y')\n",
        "plt.xlabel('X');"
      ]
    },
    {
      "cell_type": "code",
      "execution_count": 152,
      "metadata": {
        "colab": {
          "base_uri": "https://localhost:8080/",
          "height": 295
        },
        "id": "oe0CtFnjQ2e_",
        "outputId": "26e804ce-90c6-49f5-f675-709eda510161"
      },
      "outputs": [
        {
          "data": {
            "image/png": "[encoded data removed]",
            "text/plain": [
              "<Figure size 432x288 with 1 Axes>"
            ]
          },
          "metadata": {
            "needs_background": "light"
          },
          "output_type": "display_data"
        }
      ],
      "source": [
        "fig, ax = plt.subplots()\n",
        "\n",
        "\n",
        "plt.scatter(x,y,color='cyan',label='original')\n",
        "plt.plot(x,Y1,'r',label='Linear')\n",
        "plt.plot(x,Y2,'b',label='2nd degree')\n",
        "plt.plot(x,Y3,'g',label='3rd degree')\n",
        "plt.plot(x,Y4,'black',label='4th degree')\n",
        "plt.title('Different order Least Square models')\n",
        "plt.ylabel('Y')\n",
        "plt.xlabel('X')\n",
        "plt.legend(loc='upper left');"
      ]
    },
    {
      "cell_type": "code",
      "execution_count": 157,
      "metadata": {
        "colab": {
          "base_uri": "https://localhost:8080/",
          "height": 295
        },
        "id": "qHqxdEQoQ2e_",
        "outputId": "637b6d70-cce6-477c-a013-683080800e01"
      },
      "outputs": [
        {
          "data": {
            "image/png": "[encoded data removed]",
            "text/plain": [
              "<Figure size 432x288 with 1 Axes>"
            ]
          },
          "metadata": {
            "needs_background": "light"
          },
          "output_type": "display_data"
        }
      ],
      "source": [
        "\n",
        "plt.plot(x,Y1-y,'r',label='Linear')\n",
        "plt.plot(x,Y2-y,'b',label='2nd degree')\n",
        "plt.plot(x,Y3-y,'g',label='3rd degree')\n",
        "plt.plot(x,Y4-y,label='4th degree')\n",
        "plt.title('Errors')\n",
        "plt.ylabel('Y')\n",
        "plt.xlabel('X')\n",
        "plt.legend(loc='upper right');"
      ]
    },
    {
      "cell_type": "code",
      "execution_count": 158,
      "metadata": {
        "id": "LvlAtHNJQ2fA"
      },
      "outputs": [],
      "source": [
        "def rmse(y,yp):\n",
        "    return(np.sqrt( np.mean(np.square(y-yp))))\n"
      ]
    },
    {
      "cell_type": "code",
      "execution_count": 160,
      "metadata": {
        "colab": {
          "base_uri": "https://localhost:8080/"
        },
        "id": "cqlH5NacQ2fA",
        "outputId": "0dc07bdd-dd0a-4bf8-c51b-a0fb8cbfbad9"
      },
      "outputs": [
        {
          "name": "stdout",
          "output_type": "stream",
          "text": [
            "Root Mean squared Error\n",
            "Linear:  0.5138175941321002\n",
            "2nd Order:  0.4047200016044504\n",
            "3rd Order:  0.20994989998219085\n",
            "4th Order:  0.18081301456821453\n"
          ]
        }
      ],
      "source": [
        "print(\"Root Mean squared Error\")\n",
        "print('Linear: ',rmse(y,Y1))\n",
        "print('2nd Order: ',rmse(y,Y2))\n",
        "print('3rd Order: ',rmse(y,Y3))\n",
        "print('4th Order: ',rmse(y,Y4))"
      ]
    },
    {
      "cell_type": "code",
      "execution_count": null,
      "metadata": {
        "id": "1ZMealBWQ2fA"
      },
      "outputs": [],
      "source": []
    }
  ],
  "metadata": {
    "colab": {
      "provenance": []
    },
    "kernelspec": {
      "display_name": "Python 3.10.4 64-bit",
      "language": "python",
      "name": "python3"
    },
    "language_info": {
      "codemirror_mode": {
        "name": "ipython",
        "version": 3
      },
      "file_extension": ".py",
      "mimetype": "text/x-python",
      "name": "python",
      "nbconvert_exporter": "python",
      "pygments_lexer": "ipython3",
      "version": "3.10.4 (tags/v3.10.4:9d38120, Mar 23 2022, 23:13:41) [MSC v.1929 64 bit (AMD64)]"
    },
    "orig_nbformat": 4,
    "vscode": {
      "interpreter": {
        "hash": "37a27d0e5b469d6519fba8d674fca678a9e423d1818ec628dd8efc12286d08bf"
      }
    }
  },
  "nbformat": 4,
  "nbformat_minor": 0
}
